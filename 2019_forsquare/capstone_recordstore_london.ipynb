{
 "cells": [
  {
   "cell_type": "markdown",
   "metadata": {},
   "source": [
    "<h1> Opening a Record Store in London, UK"
   ]
  },
  {
   "cell_type": "markdown",
   "metadata": {},
   "source": [
    "<h3> Introduction/Business Problem </h3>\n",
    "\n",
    "**Business problem:**\n",
    "\n",
    "UK record shops have a long history, and are a source of national pride. More fantastic record stores would be a boon to the city of London, looking to retain priceless aspects of its history in the 21st century information age of CDs and mp3s. \n",
    "\n",
    "This data science project will leverage Foursquare location data in order to identify the best location within the city to open a new and profitable record store.\n",
    "\n",
    "**Target Audience:**\n",
    "\n",
    "*What type of clients or groups of people would be interested in this project?*\n",
    "\n",
    "1. Music aficionados and business personal seeking to open an epic record store. This research will provide analysis on the pros/cons of opening a record store in a particular location within London.\n"
   ]
  },
  {
   "cell_type": "markdown",
   "metadata": {},
   "source": [
    "<h3> Data Definition </h3>\n",
    "\n",
    "Below is a brief description of the data that will be used to execute this data science project. \n",
    "\n",
    "1. Number of Record Stores in each London Borough using FOURSQUARE\n",
    "\n",
    "I will use the Foursquare API to retrieve the number of record stores in each London Borough.\n",
    "\n",
    "1. Scraping London Boroughs Table from WIKI\n",
    "\n",
    "https://en.wikipedia.org/wiki/London_boroughs\n",
    "\n",
    "2. Getting coordinates of London Boroughs\n",
    "\n",
    "We will obtain the coordinates of the London Boroughs using the geocoder class of Geopy Client.\n",
    "\n"
   ]
  },
  {
   "cell_type": "code",
   "execution_count": null,
   "metadata": {},
   "outputs": [],
   "source": []
  }
 ],
 "metadata": {
  "kernelspec": {
   "display_name": "Python 3",
   "language": "python",
   "name": "python3"
  },
  "language_info": {
   "codemirror_mode": {
    "name": "ipython",
    "version": 3
   },
   "file_extension": ".py",
   "mimetype": "text/x-python",
   "name": "python",
   "nbconvert_exporter": "python",
   "pygments_lexer": "ipython3",
   "version": "3.6.7"
  }
 },
 "nbformat": 4,
 "nbformat_minor": 2
}
