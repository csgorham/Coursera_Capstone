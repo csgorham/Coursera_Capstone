{
 "cells": [
  {
   "cell_type": "markdown",
   "metadata": {},
   "source": [
    "<h1> Data Science Capstone </h1>\n",
    "\n",
    "<h2> Introduction: </h2>\n",
    "\n",
    "<h3> Business Understanding </h3>\n",
    "\n",
    "In an effort to proactively reduce the number of avoidable automotive accidents that occur, protecting human lives and insurance company capital, a predictive model must be produced to form the basis of alerting drivers to certain weather and other conditions that may cause accident. Weather, visibility and road conditions are the main conditions that will be alerted to drivers to reduce frequency of fatal accidents. These alerts will be made by the local government, police, and insurance companies -- which constitues our target audience -- to the general public, in an effort to reduce automotive fatalities in the community.\n",
    "\n",
    "\n",
    "<h3> Data Understanding </h3>\n",
    "\n",
    "The data, collected by the Seattle Police Department, consists of 37 independent variables and 194,673 accident reports that have been incurred since 2004. \n",
    "\n",
    "*“SEVERITYCODE”* is the dependent variable, which contains an evaulation that describes the severity of the accident on a scale from 0 to 4.\n",
    "\n",
    "Severity codes are as follows:\n",
    "0. Little to no Probability -- Clear Conditions \n",
    "1. Very Low Probability — Chance or Property Damage\n",
    "2. Low Probability — Chance of Injury\n",
    "3. Mild Probability — Chance of Serious Injury\n",
    "4. High Probability — Chance of Fatality\n",
    "\n",
    "Because null values exist in some records, the data requires preprocessing.\n",
    "\n",
    "Important variables that influence the *“SEVERITYCODE”* are *'WEATHER'*, *'ROADCOND'* and *'LIGHTCOND'*.\n",
    "\n",
    "We will use machine learning models:\n",
    "\n",
    "1. K-Nearest Neighbor (KKN)\n",
    "2. Decision Tree\n",
    "3. Logistic Regression\n",
    "\n",
    "to predict the severity-code under a wide range of conditions.\n",
    " "
   ]
  },
  {
   "cell_type": "code",
   "execution_count": null,
   "metadata": {
    "collapsed": true
   },
   "outputs": [],
   "source": []
  },
  {
   "cell_type": "code",
   "execution_count": null,
   "metadata": {
    "collapsed": true
   },
   "outputs": [],
   "source": []
  },
  {
   "cell_type": "code",
   "execution_count": null,
   "metadata": {
    "collapsed": true
   },
   "outputs": [],
   "source": []
  },
  {
   "cell_type": "code",
   "execution_count": null,
   "metadata": {
    "collapsed": true
   },
   "outputs": [],
   "source": []
  },
  {
   "cell_type": "code",
   "execution_count": null,
   "metadata": {
    "collapsed": true
   },
   "outputs": [],
   "source": []
  }
 ],
 "metadata": {
  "kernelspec": {
   "display_name": "Python 2",
   "language": "python",
   "name": "python2"
  },
  "language_info": {
   "codemirror_mode": {
    "name": "ipython",
    "version": 2
   },
   "file_extension": ".py",
   "mimetype": "text/x-python",
   "name": "python",
   "nbconvert_exporter": "python",
   "pygments_lexer": "ipython2",
   "version": "2.7.6"
  },
  "widgets": {
   "state": {},
   "version": "1.1.2"
  }
 },
 "nbformat": 4,
 "nbformat_minor": 0
}
