{
 "cells": [
  {
   "cell_type": "markdown",
   "metadata": {},
   "source": [
    "<h1> Data Science Capstone </h1>\n",
    "\n",
    "<h2> Introduction: </h2>\n",
    "\n",
    "<h3> Business Understanding </h3>\n",
    "\n",
    "In an effort to proactively reduce the number of avoidable automotive accidents that occur, protecting human lives and insurance company capital, a predictive model must be produced to form the basis of alerting drivers to certain weather and other conditions that may cause accident. Weather, visibility and road conditions are the main conditions that will be alerted to drivers to reduce frequency of fatal accidents. These alerts will be made by the local government, police, and insurance companies -- which constitues our target audience -- to the general public, in an effort to reduce automotive fatalities in the community.\n",
    "\n",
    "\n",
    "<h3> Data Understanding </h3>\n",
    "\n",
    "The data, collected by the Seattle Police Department, consists of 37 independent variables and 194,673 accident reports that have been incurred since 2004. \n",
    "\n",
    "*“SEVERITYCODE”* is the dependent variable, which contains an evaulation that describes the severity of the accident in two classes (1,2).\n",
    "\n",
    "Severity codes are as follows:\n",
    "1. Very Low Probability — Chance or Property Damage\n",
    "2. Low Probability — Chance of Injury\n",
    "\n",
    "\n",
    "Because null values exist in some records, the data requires preprocessing.\n",
    "\n",
    "Important variables that influence the *“SEVERITYCODE”* are *'WEATHER'*, *'ROADCOND'* and *'LIGHTCOND'*.\n",
    "\n",
    "We will use machine learning models:\n",
    "\n",
    "1. K-Nearest Neighbor (KKN)\n",
    "2. Decision Tree\n",
    "3. Logistic Regression\n",
    "\n",
    "to predict the severity-code under a wide range of conditions.\n",
    " "
   ]
  },
  {
   "cell_type": "markdown",
   "metadata": {},
   "source": [
    "<h2> Data Preprocessing: </h2>"
   ]
  },
  {
   "cell_type": "markdown",
   "metadata": {},
   "source": [
    "Import the relevant libraries:"
   ]
  },
  {
   "cell_type": "code",
   "execution_count": 107,
   "metadata": {},
   "outputs": [
    {
     "name": "stderr",
     "output_type": "stream",
     "text": [
      "Matplotlib is building the font cache using fc-list. This may take a moment.\n"
     ]
    }
   ],
   "source": [
    "from bs4 import BeautifulSoup\n",
    "import requests\n",
    "import pandas as pd\n",
    "\n",
    "import numpy as np\n",
    "\n",
    "# Matplotlib and associated plotting modules\n",
    "import matplotlib.pyplot as plt\n",
    "import matplotlib.cm as cm\n",
    "import matplotlib.colors as colors"
   ]
  },
  {
   "cell_type": "markdown",
   "metadata": {},
   "source": [
    "Read in the data in .csv file format, and encode string values into numerical values for the independent variables (weather, light condition, road condition):"
   ]
  },
  {
   "cell_type": "code",
   "execution_count": 163,
   "metadata": {},
   "outputs": [
    {
     "name": "stdout",
     "output_type": "stream",
     "text": [
      "Daylight                    116137\n",
      "Dark - Street Lights On      48507\n",
      "Unknown                      13473\n",
      "Dusk                          5902\n",
      "Dawn                          2502\n",
      "Dark - No Street Lights       1537\n",
      "Dark - Street Lights Off      1199\n",
      "Other                          235\n",
      "Dark - Unknown Lighting         11\n",
      "Name: light_condition, dtype: int64\n",
      "Dry               124510\n",
      "Wet                47474\n",
      "Unknown            15078\n",
      "Ice                 1209\n",
      "Snow/Slush          1004\n",
      "Other                132\n",
      "Standing Water       115\n",
      "Sand/Mud/Dirt         75\n",
      "Oil                   64\n",
      "Name: road_condition, dtype: int64\n",
      "Clear                       111135\n",
      "Raining                      33145\n",
      "Overcast                     27714\n",
      "Unknown                      15091\n",
      "Snowing                        907\n",
      "Other                          832\n",
      "Fog/Smog/Smoke                 569\n",
      "Sleet/Hail/Freezing Rain       113\n",
      "Blowing Sand/Dirt               56\n",
      "Severe Crosswind                25\n",
      "Partly Cloudy                    5\n",
      "Name: weather, dtype: int64\n",
      "1    136485\n",
      "2     58188\n",
      "Name: severity, dtype: int64\n",
      "2    58188\n",
      "1    58188\n",
      "Name: severity, dtype: int64\n"
     ]
    }
   ],
   "source": [
    "\n",
    "data_collisions = pd.read_csv('Data-Collisions.csv', sep=',')\n",
    "severity_code = data_collisions['SEVERITYCODE'].values\n",
    "weather = data_collisions['WEATHER'].values\n",
    "roadcond = data_collisions['ROADCOND'].values\n",
    "lightcond = data_collisions['LIGHTCOND'].values\n",
    "influence = data_collisions['UNDERINFL'].values\n",
    "\n",
    "df=pd.DataFrame()\n",
    "df[\"severity\"]=severity_code\n",
    "df[\"weather\"]=weather\n",
    "df[\"road_condition\"]=roadcond\n",
    "df[\"light_condition\"]=lightcond\n",
    "df[\"under_influence\"]= influence\n",
    "df[\"weather_int\"]= np.zeros((len(severity_code),1), dtype=int)\n",
    "df[\"road_condition_int\"]=np.zeros((len(severity_code),1), dtype=int)\n",
    "df[\"light_condition_int\"]=np.zeros((len(severity_code),1), dtype=int)\n",
    "\n",
    "\n",
    "#Encoding Light Conditions(\n",
    "#0 = Daylight, \n",
    "#1 = Dusk/Dawn or Streetlights, \n",
    "#2 = Dark no lighting\n",
    "df.loc[df.light_condition == \"Daylight\", \"light_condition_int\"] = 0\n",
    "df.loc[df.light_condition == \"Dark - Street Lights On\", \"light_condition_int\"] = 1\n",
    "df.loc[df.light_condition == \"Dusk\", \"light_condition_int\"] = 2\n",
    "df.loc[df.light_condition == \"Dawn\", \"light_condition_int\"] = 3\n",
    "df.loc[df.light_condition == \"Dark - No Street Lights\", \"light_condition_int\"] = 4\n",
    "df.loc[df.light_condition == \"Dark - Street Lights Off\", \"light_condition_int\"] = 5\n",
    "df.loc[df.light_condition == \"Dark - Unknown Lighting\", \"light_condition_int\"] = 6\n",
    "\n",
    "\n",
    "\n",
    "#Weather Conditions(\n",
    "#0 = Clear, \n",
    "#1 = Overcast and Partly Cloudy, \n",
    "#2 = Raining + Smoke, \n",
    "#3 = Sleet & Snowing & Severe Crosswind & Blowing Sand/Dirt\n",
    "df.loc[df.weather == \"Clear\", \"weather_int\"] = 0\n",
    "df.loc[df.weather == \"Overcast\", \"weather_int\"] = 1\n",
    "df.loc[df.weather == \"Partly Cloudy\", \"weather_int\"] = 2\n",
    "df.loc[df.weather == \"Raining\", \"weather_int\"] = 3\n",
    "df.loc[df.weather == \"Fog/Smog/Smoke\", \"weather_int\"] = 4\n",
    "df.loc[df.weather == \"Snowing\", \"weather_int\"] = 5\n",
    "df.loc[df.weather == \"Sleet/Hail/Freezing Rain\", \"weather_int\"] = 6\n",
    "df.loc[df.weather == \"Blowing Sand/Dirt\", \"weather_int\"] = 7\n",
    "df.loc[df.weather == \"Severe Crosswind\", \"weather_int\"] = 8\n",
    "\n",
    "\n",
    "#Encoding Road Conditions\n",
    "#0 = Dry/Normal, \n",
    "#1 = Wet, Sand/Mud, \n",
    "#2 = Ice, Snow, Oil, Standing Water\n",
    "df.loc[df.road_condition == \"Dry\", \"road_condition_int\"] = 0\n",
    "df.loc[df.road_condition == \"Wet\", \"road_condition_int\"] = 1\n",
    "df.loc[df.road_condition == \"Sand/Mud/Dirt\", \"road_condition_int\"] = 2\n",
    "df.loc[df.road_condition == \"Ice\", \"road_condition_int\"] = 3\n",
    "df.loc[df.road_condition == \"Snow/Slush\", \"road_condition_int\"] = 4\n",
    "df.loc[df.road_condition == \"Standing Water\", \"road_condition_int\"] = 5\n",
    "df.loc[df.road_condition == \"Oil\", \"road_condition_int\"] = 6\n",
    "#df.dtypes"
   ]
  },
  {
   "cell_type": "markdown",
   "metadata": {},
   "source": [
    "Let's do some visualization on the data, to garner some initial hypotheses."
   ]
  },
  {
   "cell_type": "code",
   "execution_count": 166,
   "metadata": {},
   "outputs": [
    {
     "data": {
      "text/plain": [
       "<matplotlib.legend.Legend at 0x130aad730>"
      ]
     },
     "execution_count": 166,
     "metadata": {},
     "output_type": "execute_result"
    },
    {
     "data": {
      "image/png": "[encoded data removed]",
      "text/plain": [
       "<Figure size 432x288 with 3 Axes>"
      ]
     },
     "metadata": {
      "needs_background": "light"
     },
     "output_type": "display_data"
    }
   ],
   "source": [
    "### PLOTTING THE DATA TO SEE WHAT TO EXPECT\n",
    "\n",
    "lightcond_counts = np.zeros((7,2))\n",
    "roadcond_counts = np.zeros((7,2))\n",
    "weather_counts = np.zeros((9,2))\n",
    "\n",
    "#light condition\n",
    "for i1 in range(7):\n",
    "    count1a = df[(df.light_condition_int == i1) & (df.severity == 1)]\n",
    "    count2a = df[(df.light_condition_int == i1) & (df.severity == 2)]\n",
    "    lightcond_counts[i1,0] = count1a[\"severity\"].value_counts()\n",
    "    lightcond_counts[i1,1] = count2a[\"severity\"].value_counts()\n",
    "\n",
    "\n",
    "#road condition\n",
    "for i1 in range(7):\n",
    "    count1b = df[(df.road_condition_int == i1) & (df.severity == 1)]\n",
    "    count2b = df[(df.road_condition_int == i1) & (df.severity == 2)]\n",
    "    roadcond_counts[i1,0] = count1b[\"severity\"].value_counts()\n",
    "    roadcond_counts[i1,1] = count2b[\"severity\"].value_counts()\n",
    "\n",
    "#road condition\n",
    "for i2 in range(9):\n",
    "    count1c = df[(df.weather_int == i2) & (df.severity == 1)]\n",
    "    count2c = df[(df.weather_int == i2) & (df.severity == 2)]\n",
    "    weather_counts[i2,0] = count1c[\"severity\"].value_counts()\n",
    "    weather_counts[i2,1] = count2c[\"severity\"].value_counts()\n",
    "    \n",
    "fig, axs = plt.subplots(1, 3, sharey=True, tight_layout=True)\n",
    "\n",
    "# We can set the number of bins with the `bins` kwarg\n",
    "axs[0].plot(range(7),  lightcond_counts[:,0], 'ok')\n",
    "axs[0].plot(range(7),  lightcond_counts[:,1], 'or')\n",
    "plt.xticks(range(7))\n",
    "axs[0].title.set_text('Light Conditions')\n",
    "\n",
    "axs[1].plot(range(7),  roadcond_counts[:,0], 'ok')\n",
    "axs[1].plot(range(7),  roadcond_counts[:,1], 'or')\n",
    "plt.xticks(range(7))\n",
    "axs[1].title.set_text('Road Conditions')\n",
    "\n",
    "h1=axs[2].plot(range(9),  weather_counts[:,0], 'ok', label='property damage')\n",
    "h2=axs[2].plot(range(9),  weather_counts[:,1], 'or', label='casualty')\n",
    "plt.xticks(range(9))\n",
    "axs[2].title.set_text('Weather')\n",
    "plt.legend(loc=\"upper left\")\n",
    "\n"
   ]
  },
  {
   "cell_type": "markdown",
   "metadata": {},
   "source": [
    "It looks like most accidents occur in relatively mild and \"harmless\" conditions such as \"clear skies\" and \"clean road.\" This is important. Also it looks like there are very many more accidents that have been filed under \"severity Class 1\" than \"severity Class 2,\" which may skew our Machine Learning algorithms -- let's balance the dataset before moving forwards with ML analyses."
   ]
  },
  {
   "cell_type": "code",
   "execution_count": null,
   "metadata": {},
   "outputs": [],
   "source": [
    "### BALANCE DATASET\n",
    "print(df[\"severity\"].value_counts())\n",
    "\n",
    "df_class1 = df[df.severity==1]\n",
    "df_class2 = df[df.severity==2]\n",
    "\n",
    "df_class1_downsample = resample(df_class1, replace=False, \n",
    "                                n_samples=58188,  random_state=75)\n",
    "\n",
    "ready_df = pd.concat([df_class1_downsample, df_class2])\n",
    "\n",
    "print(ready_df[\"severity\"].value_counts())"
   ]
  },
  {
   "cell_type": "markdown",
   "metadata": {},
   "source": [
    "With an initial look at the data, we have an idea what to expect -- now that everything is pre-processed, let's apply some ML techniques."
   ]
  },
  {
   "cell_type": "markdown",
   "metadata": {},
   "source": [
    "<h2> Methodology: </h2>\n",
    "\n",
    "Despite most accidents being caused in seemingly harmless conditions, we will still apply three machine learning protocols to develop some predictive abilities for the stakeholders.\n",
    "\n",
    "1. K-Nearest Neighbor (KKN)\n",
    "2. Decision Tree\n",
    "3. Logistic Regression\n",
    "\n",
    "The important Sklearn libraries are imported below. The preprocessed data will be parsed into \"test\" and \"train\" sets that will be used to develop each ML model. These predictive models, which will use the independent variables in the training set to predict the dependent variable (\"Severity Code\"), will be evaluated on the basis of established metrics of predictive power (namely, \"Jaccard\" and \"F1\" scores)."
   ]
  },
  {
   "cell_type": "code",
   "execution_count": 167,
   "metadata": {},
   "outputs": [],
   "source": [
    "from sklearn.cluster import KMeans\n",
    "from sklearn.utils import resample\n",
    "from sklearn import preprocessing\n",
    "from sklearn.metrics import jaccard_score\n",
    "from sklearn.metrics import f1_score\n",
    "from sklearn.metrics import log_loss\n"
   ]
  },
  {
   "cell_type": "markdown",
   "metadata": {},
   "source": [
    "<h3> K-Nearest Neighbor (KKN): </h3>"
   ]
  },
  {
   "cell_type": "code",
   "execution_count": 94,
   "metadata": {},
   "outputs": [
    {
     "name": "stdout",
     "output_type": "stream",
     "text": [
      "Train set: (81463, 3) (81463,)\n",
      "Test set: (34913, 3) (34913,)\n"
     ]
    }
   ],
   "source": [
    "## Define X and Y\n",
    "\n",
    "X = np.asarray(ready_df[[\"weather_int\", \"road_condition_int\", \"light_condition_int\"]])\n",
    "\n",
    "Y = np.asarray(ready_df[\"severity\"])\n",
    "\n",
    "\n",
    "## normalize the data set\n",
    "\n",
    "X = preprocessing.StandardScaler().fit(X).transform(X)\n",
    "\n",
    "\n",
    "## Test and Train split\n",
    "from sklearn.model_selection import train_test_split\n",
    "X_train, X_test, Y_train, Y_test = train_test_split(X, Y, test_size=0.3, random_state=87)\n",
    "print ('Train set:', X_train.shape,  Y_train.shape)\n",
    "print ('Test set:', X_test.shape,  Y_test.shape)\n",
    "\n"
   ]
  },
  {
   "cell_type": "code",
   "execution_count": 95,
   "metadata": {},
   "outputs": [
    {
     "data": {
      "text/plain": [
       "array([0.48526337, 0.50886489, 0.49474408, 0.50900811, 0.51616876,\n",
       "       0.51582505, 0.49462951, 0.51645519, 0.51682754, 0.51634062,\n",
       "       0.51734311, 0.51788732, 0.51923352, 0.51866067])"
      ]
     },
     "execution_count": 95,
     "metadata": {},
     "output_type": "execute_result"
    }
   ],
   "source": [
    "# Modeling\n",
    "from sklearn.neighbors import KNeighborsClassifier\n",
    "\n",
    "# Best k\n",
    "Ks=15\n",
    "mean_acc=np.zeros((Ks-1))\n",
    "std_acc=np.zeros((Ks-1))\n",
    "ConfustionMx=[];\n",
    "for n in range(1,Ks):\n",
    "    \n",
    "    #Train Model and Predict  \n",
    "    kNN_model = KNeighborsClassifier(n_neighbors=n).fit(X_train,Y_train)\n",
    "    yhat = kNN_model.predict(X_test)\n",
    "    \n",
    "    \n",
    "    mean_acc[n-1]=np.mean(yhat==Y_test);\n",
    "    \n",
    "    std_acc[n-1]=np.std(yhat==Y_test)/np.sqrt(yhat.shape[0])\n",
    "mean_acc\n"
   ]
  },
  {
   "cell_type": "code",
   "execution_count": 96,
   "metadata": {},
   "outputs": [
    {
     "data": {
      "text/plain": [
       "0.4447014506162641"
      ]
     },
     "execution_count": 96,
     "metadata": {},
     "output_type": "execute_result"
    }
   ],
   "source": [
    "# Building the model again, using k=7\n",
    "from sklearn.neighbors import KNeighborsClassifier\n",
    "k = 14\n",
    "#Train Model and Predict  \n",
    "kNN_model = KNeighborsClassifier(n_neighbors=k).fit(X_train,Y_train)\n",
    "kNN_model\n",
    "\n",
    "#KNN EVALUATION\n",
    "\n",
    "kNN_model_pred = kNN_model.predict(X_test)\n",
    "\n",
    "jaccard_score(Y_test, kNN_model_pred)"
   ]
  },
  {
   "cell_type": "code",
   "execution_count": 97,
   "metadata": {},
   "outputs": [
    {
     "data": {
      "text/plain": [
       "0.4876844205799855"
      ]
     },
     "execution_count": 97,
     "metadata": {},
     "output_type": "execute_result"
    }
   ],
   "source": [
    "f1_score(Y_test, kNN_model_pred, average='weighted')"
   ]
  },
  {
   "cell_type": "markdown",
   "metadata": {},
   "source": [
    "<h3> Decision Tree: </h3>"
   ]
  },
  {
   "cell_type": "code",
   "execution_count": 83,
   "metadata": {},
   "outputs": [
    {
     "data": {
      "text/plain": [
       "0.40722750080068326"
      ]
     },
     "execution_count": 83,
     "metadata": {},
     "output_type": "execute_result"
    }
   ],
   "source": [
    "from sklearn.tree import DecisionTreeClassifier\n",
    "DT_model = DecisionTreeClassifier(criterion=\"entropy\", max_depth = 4)\n",
    "DT_model.fit(X_train,Y_train)\n",
    "DT_model\n",
    "\n",
    "yhat_decisiontree = DT_model.predict(X_test)\n",
    "\n",
    "jaccard_score(Y_test, yhat_decisiontree)\n"
   ]
  },
  {
   "cell_type": "code",
   "execution_count": 84,
   "metadata": {},
   "outputs": [
    {
     "data": {
      "text/plain": [
       "0.5142129496200037"
      ]
     },
     "execution_count": 84,
     "metadata": {},
     "output_type": "execute_result"
    }
   ],
   "source": [
    "f1_score(Y_test, yhat_decisiontree, average='weighted')"
   ]
  },
  {
   "cell_type": "markdown",
   "metadata": {},
   "source": [
    "<h3> Logistic Regression: </h3>"
   ]
  },
  {
   "cell_type": "code",
   "execution_count": 100,
   "metadata": {},
   "outputs": [
    {
     "data": {
      "text/plain": [
       "0.4334591708329082"
      ]
     },
     "execution_count": 100,
     "metadata": {},
     "output_type": "execute_result"
    }
   ],
   "source": [
    "from sklearn.linear_model import LogisticRegression\n",
    "LR_model = LogisticRegression(C=.5).fit(X_train,Y_train)\n",
    "LR_model_ypredict = LR_model.predict(X_test)\n",
    "\n",
    "jaccard_score(Y_test, LR_model_ypredict)\n"
   ]
  },
  {
   "cell_type": "code",
   "execution_count": 101,
   "metadata": {},
   "outputs": [
    {
     "data": {
      "text/plain": [
       "0.502849732236971"
      ]
     },
     "execution_count": 101,
     "metadata": {},
     "output_type": "execute_result"
    }
   ],
   "source": [
    "f1_score(Y_test, LR_model_ypredict, average='weighted')"
   ]
  },
  {
   "cell_type": "markdown",
   "metadata": {},
   "source": [
    "<h2> Results and Discussion: </h2>"
   ]
  },
  {
   "cell_type": "markdown",
   "metadata": {},
   "source": [
    "The accuracy of the three ML models, built to predict whether particular road, light and weather conditions result in property damage (class 1) or injury (class 2), are reported in the table below.\n",
    "\n",
    "| Algorithm          | Jaccard | F1-score |\n",
    "|--------------------|---------|----------|\n",
    "| KNN                | 0.44    | 0.49     |\n",
    "| Decision Tree      | 0.43    | 0.51     |\n",
    "| LogisticRegression | 0.43    | 0.50     |\n",
    "\n",
    "Seemingly, any technique will do, as they are all about equally accurate. "
   ]
  },
  {
   "cell_type": "markdown",
   "metadata": {},
   "source": [
    "<h2> Conclusions: </h2>\n",
    "\n",
    "The majority of crashes happened in nearly perfect conditions: clear, dry, and light. This kind of condition is essentially the norm, and happens most frequently, so it should be no surprise that most accidents happen within this time frame with these conditions. However, initially I did expect more crashes to happen under less than perfect conditions.\n",
    "\n",
    "\n",
    "Officials should alert the public to remain cautious even in good weather and under good conditions. Further alerts may be warranted when conditions become less than perfect, just as a safety measure. \n",
    "\n",
    "In this case, where most accidents occur under perfect conditions, a predictive machine learning algorithm does not appear to be very useful. However, that said, any of the standard methods (explored here) would do equally well.\n"
   ]
  }
 ],
 "metadata": {
  "kernelspec": {
   "display_name": "Python 3",
   "language": "python",
   "name": "python3"
  },
  "language_info": {
   "codemirror_mode": {
    "name": "ipython",
    "version": 3
   },
   "file_extension": ".py",
   "mimetype": "text/x-python",
   "name": "python",
   "nbconvert_exporter": "python",
   "pygments_lexer": "ipython3",
   "version": "3.8.3"
  },
  "widgets": {
   "state": {},
   "version": "1.1.2"
  }
 },
 "nbformat": 4,
 "nbformat_minor": 1
}
